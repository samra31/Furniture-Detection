{
  "nbformat": 4,
  "nbformat_minor": 0,
  "metadata": {
    "colab": {
      "provenance": [],
      "mount_file_id": "1bnd34ei5vUNKk_-dng7UFQpyX7lyHfvT",
      "authorship_tag": "ABX9TyNMISN1q9ZE7S6JoMguzM7y",
      "include_colab_link": true
    },
    "kernelspec": {
      "name": "python3",
      "display_name": "Python 3"
    },
    "language_info": {
      "name": "python"
    }
  },
  "cells": [
    {
      "cell_type": "markdown",
      "metadata": {
        "id": "view-in-github",
        "colab_type": "text"
      },
      "source": [
        "<a href=\"https://colab.research.google.com/github/samra31/Furniture-Detection/blob/main/changelabelclass.ipynb\" target=\"_parent\"><img src=\"https://colab.research.google.com/assets/colab-badge.svg\" alt=\"Open In Colab\"/></a>"
      ]
    },
    {
      "cell_type": "code",
      "execution_count": null,
      "metadata": {
        "colab": {
          "base_uri": "https://localhost:8080/"
        },
        "id": "IMq2FQIjNLmE",
        "outputId": "2852638f-a0f7-4042-ef44-37885051e665"
      },
      "outputs": [
        {
          "output_type": "stream",
          "name": "stdout",
          "text": [
            "Class number 7 replaced with 4 in YOLO annotation files.\n"
          ]
        }
      ],
      "source": [
        "import os\n",
        "\n",
        "# Directory containing YOLO annotation files\n",
        "annotation_dir = '/content/drive/MyDrive/PerosonTableDet/ultralytics/trainNew/label'\n",
        "\n",
        "# Old and new class numbers\n",
        "old_class_number = 7  # Replace with the old class number you want to change\n",
        "new_class_number = 4 # Replace with the new class number\n",
        "\n",
        "# Iterate through annotation files\n",
        "for filename in os.listdir(annotation_dir):\n",
        "    if filename.endswith('.txt'):\n",
        "        with open(os.path.join(annotation_dir, filename), 'r') as file:\n",
        "            lines = file.readlines()\n",
        "\n",
        "        # Replace the old class number with the new class number\n",
        "        updated_lines = [line.replace(f'{old_class_number}', f'{new_class_number}') for line in lines]\n",
        "\n",
        "        # Write the modified lines back to the file\n",
        "        with open(os.path.join(annotation_dir, filename), 'w') as file:\n",
        "            file.writelines(updated_lines)\n",
        "\n",
        "print(f\"Class number {old_class_number} replaced with {new_class_number} in YOLO annotation files.\")\n"
      ]
    },
    {
      "cell_type": "code",
      "source": [
        "def change_class_in_annotation(input_file, output_file, old_class_id, new_class_id):\n",
        "    with open(input_file, 'r') as infile, open(output_file, 'w') as outfile:\n",
        "        for line in infile:\n",
        "            parts = line.strip().split()\n",
        "            if len(parts) >= 5:\n",
        "                class_id = int(parts[0])\n",
        "                if class_id == old_class_id:\n",
        "                    parts[0] = str(new_class_id)\n",
        "                updated_line = ' '.join(parts) + '\\n'\n",
        "                outfile.write(updated_line)\n",
        "\n",
        "# Example usage:\n",
        "input_file = '/content/drive/MyDrive/PerosonTableDet/ultralytics/valNew/labels'\n",
        "output_file = '/content/drive/MyDrive/PerosonTableDet/ultralytics/valNew/changelabel'\n",
        "old_class_id = 1  # Replace with the old class ID you want to change\n",
        "new_class_id = 0  # Replace with the new class ID\n",
        "change_class_in_annotation(input_file, output_file, old_class_id, new_class_id)\n"
      ],
      "metadata": {
        "colab": {
          "base_uri": "https://localhost:8080/",
          "height": 367
        },
        "id": "R_bkOCi8Usr-",
        "outputId": "d4232eb2-7a2c-4324-e170-0f520f0bd1ab"
      },
      "execution_count": null,
      "outputs": [
        {
          "output_type": "error",
          "ename": "IsADirectoryError",
          "evalue": "ignored",
          "traceback": [
            "\u001b[0;31m---------------------------------------------------------------------------\u001b[0m",
            "\u001b[0;31mIsADirectoryError\u001b[0m                         Traceback (most recent call last)",
            "\u001b[0;32m<ipython-input-14-162d2001084a>\u001b[0m in \u001b[0;36m<cell line: 17>\u001b[0;34m()\u001b[0m\n\u001b[1;32m     15\u001b[0m \u001b[0mold_class_id\u001b[0m \u001b[0;34m=\u001b[0m \u001b[0;36m1\u001b[0m  \u001b[0;31m# Replace with the old class ID you want to change\u001b[0m\u001b[0;34m\u001b[0m\u001b[0;34m\u001b[0m\u001b[0m\n\u001b[1;32m     16\u001b[0m \u001b[0mnew_class_id\u001b[0m \u001b[0;34m=\u001b[0m \u001b[0;36m0\u001b[0m  \u001b[0;31m# Replace with the new class ID\u001b[0m\u001b[0;34m\u001b[0m\u001b[0;34m\u001b[0m\u001b[0m\n\u001b[0;32m---> 17\u001b[0;31m \u001b[0mchange_class_in_annotation\u001b[0m\u001b[0;34m(\u001b[0m\u001b[0minput_file\u001b[0m\u001b[0;34m,\u001b[0m \u001b[0moutput_file\u001b[0m\u001b[0;34m,\u001b[0m \u001b[0mold_class_id\u001b[0m\u001b[0;34m,\u001b[0m \u001b[0mnew_class_id\u001b[0m\u001b[0;34m)\u001b[0m\u001b[0;34m\u001b[0m\u001b[0;34m\u001b[0m\u001b[0m\n\u001b[0m",
            "\u001b[0;32m<ipython-input-14-162d2001084a>\u001b[0m in \u001b[0;36mchange_class_in_annotation\u001b[0;34m(input_file, output_file, old_class_id, new_class_id)\u001b[0m\n\u001b[1;32m      1\u001b[0m \u001b[0;32mdef\u001b[0m \u001b[0mchange_class_in_annotation\u001b[0m\u001b[0;34m(\u001b[0m\u001b[0minput_file\u001b[0m\u001b[0;34m,\u001b[0m \u001b[0moutput_file\u001b[0m\u001b[0;34m,\u001b[0m \u001b[0mold_class_id\u001b[0m\u001b[0;34m,\u001b[0m \u001b[0mnew_class_id\u001b[0m\u001b[0;34m)\u001b[0m\u001b[0;34m:\u001b[0m\u001b[0;34m\u001b[0m\u001b[0;34m\u001b[0m\u001b[0m\n\u001b[0;32m----> 2\u001b[0;31m     \u001b[0;32mwith\u001b[0m \u001b[0mopen\u001b[0m\u001b[0;34m(\u001b[0m\u001b[0minput_file\u001b[0m\u001b[0;34m,\u001b[0m \u001b[0;34m'r'\u001b[0m\u001b[0;34m)\u001b[0m \u001b[0;32mas\u001b[0m \u001b[0minfile\u001b[0m\u001b[0;34m,\u001b[0m \u001b[0mopen\u001b[0m\u001b[0;34m(\u001b[0m\u001b[0moutput_file\u001b[0m\u001b[0;34m,\u001b[0m \u001b[0;34m'w'\u001b[0m\u001b[0;34m)\u001b[0m \u001b[0;32mas\u001b[0m \u001b[0moutfile\u001b[0m\u001b[0;34m:\u001b[0m\u001b[0;34m\u001b[0m\u001b[0;34m\u001b[0m\u001b[0m\n\u001b[0m\u001b[1;32m      3\u001b[0m         \u001b[0;32mfor\u001b[0m \u001b[0mline\u001b[0m \u001b[0;32min\u001b[0m \u001b[0minfile\u001b[0m\u001b[0;34m:\u001b[0m\u001b[0;34m\u001b[0m\u001b[0;34m\u001b[0m\u001b[0m\n\u001b[1;32m      4\u001b[0m             \u001b[0mparts\u001b[0m \u001b[0;34m=\u001b[0m \u001b[0mline\u001b[0m\u001b[0;34m.\u001b[0m\u001b[0mstrip\u001b[0m\u001b[0;34m(\u001b[0m\u001b[0;34m)\u001b[0m\u001b[0;34m.\u001b[0m\u001b[0msplit\u001b[0m\u001b[0;34m(\u001b[0m\u001b[0;34m)\u001b[0m\u001b[0;34m\u001b[0m\u001b[0;34m\u001b[0m\u001b[0m\n\u001b[1;32m      5\u001b[0m             \u001b[0;32mif\u001b[0m \u001b[0mlen\u001b[0m\u001b[0;34m(\u001b[0m\u001b[0mparts\u001b[0m\u001b[0;34m)\u001b[0m \u001b[0;34m>=\u001b[0m \u001b[0;36m5\u001b[0m\u001b[0;34m:\u001b[0m\u001b[0;34m\u001b[0m\u001b[0;34m\u001b[0m\u001b[0m\n",
            "\u001b[0;31mIsADirectoryError\u001b[0m: [Errno 21] Is a directory: '/content/drive/MyDrive/PerosonTableDet/ultralytics/valNew/labels'"
          ]
        }
      ]
    },
    {
      "cell_type": "code",
      "source": [
        "import os\n",
        "\n",
        "# Define the input and output annotation folder paths\n",
        "input_annotation_folder = '/content/drive/MyDrive/PerosonTableDet/ultralytics/labels'\n",
        "output_annotation_folder = '/content/drive/MyDrive/PerosonTableDet/ultralytics/changelabel_1'\n",
        "\n",
        "# Define the old and new class numbers to change\n",
        "old_class_number = 2  # Replace with the old class number you want to change\n",
        "new_class_number = 1  # Replace with the new class number you want to set\n",
        "\n",
        "# Create the output folder if it doesn't exist\n",
        "if not os.path.exists(output_annotation_folder):\n",
        "    os.makedirs(output_annotation_folder)\n",
        "\n",
        "# Iterate through the input annotation files\n",
        "for filename in os.listdir(input_annotation_folder):\n",
        "    if filename.endswith('.txt'):\n",
        "        with open(os.path.join(input_annotation_folder, filename), 'r') as file:\n",
        "            lines = file.readlines()\n",
        "\n",
        "        # Modify the class number in each line\n",
        "        modified_lines = []\n",
        "        for line in lines:\n",
        "            parts = line.strip().split()\n",
        "            if len(parts) >= 5:\n",
        "                class_number = int(parts[0])\n",
        "                if class_number == old_class_number:\n",
        "                    parts[0] = str(new_class_number)\n",
        "                modified_lines.append(' '.join(parts))\n",
        "\n",
        "        # Write the modified lines to the output annotation file\n",
        "        output_filename = os.path.join(output_annotation_folder, filename)\n",
        "        with open(output_filename, 'w') as file:\n",
        "            file.write('\\n'.join(modified_lines))\n",
        "\n",
        "print(\"Class numbers changed in annotations and saved to the output folder.\")\n"
      ],
      "metadata": {
        "colab": {
          "base_uri": "https://localhost:8080/"
        },
        "id": "0bcST5G1WBg7",
        "outputId": "048b18d1-13bc-47ec-d0f2-41410c2b3038"
      },
      "execution_count": null,
      "outputs": [
        {
          "output_type": "stream",
          "name": "stdout",
          "text": [
            "Class numbers changed in annotations and saved to the output folder.\n"
          ]
        }
      ]
    },
    {
      "cell_type": "code",
      "source": [
        "import os\n",
        "\n",
        "# Directory containing the original YOLO annotation files\n",
        "original_annotation_dir = '/content/drive/MyDrive/PerosonTableDet/ultralytics/label'\n",
        "\n",
        "# Directory to save the modified annotations with updated class numbers\n",
        "new_annotation_dir = '/content/drive/MyDrive/PerosonTableDet/ultralytics/chnagelabel_Train'\n",
        "\n",
        "# Dictionary to map old class numbers to new class numbers\n",
        "class_mapping = {\n",
        "    '1': '0',\n",
        "    '2': '1',\n",
        "    '3': '2',\n",
        "    '4': '3',\n",
        "    '7': '4',\n",
        "    '8': '5',\n",
        "    '10': '6',\n",
        "    '11': '7',\n",
        "    # Add more mappings as needed\n",
        "}\n",
        "\n",
        "# Create the new annotation directory if it doesn't exist\n",
        "if not os.path.exists(new_annotation_dir):\n",
        "    os.makedirs(new_annotation_dir)\n",
        "\n",
        "# Iterate through the original annotation files\n",
        "for filename in os.listdir(original_annotation_dir):\n",
        "    if filename.endswith('.txt'):\n",
        "        with open(os.path.join(original_annotation_dir, filename), 'r') as file:\n",
        "            lines = file.readlines()\n",
        "\n",
        "        # Iterate through lines and update class numbers\n",
        "        updated_lines = []\n",
        "        for line in lines:\n",
        "            parts = line.strip().split()\n",
        "            if len(parts) > 0 and parts[0] in class_mapping:\n",
        "                parts[0] = class_mapping[parts[0]]\n",
        "            updated_lines.append(' '.join(parts))\n",
        "\n",
        "        # Save the modified annotation to the new directory\n",
        "        new_filename = os.path.join(new_annotation_dir, filename)\n",
        "        with open(new_filename, 'w') as file:\n",
        "            file.writelines('\\n'.join(updated_lines))\n",
        "\n",
        "print(\"Annotations with updated class numbers saved to the new directory.\")\n"
      ],
      "metadata": {
        "colab": {
          "base_uri": "https://localhost:8080/"
        },
        "id": "Qk1Q7tr6aHRT",
        "outputId": "bc1b19ab-0dc7-454a-c3ab-b746fc7aca56"
      },
      "execution_count": null,
      "outputs": [
        {
          "output_type": "stream",
          "name": "stdout",
          "text": [
            "Annotations with updated class numbers saved to the new directory.\n"
          ]
        }
      ]
    },
    {
      "cell_type": "code",
      "source": [
        "import os\n",
        "\n",
        "# Directory containing the original YOLO annotation files\n",
        "original_annotation_dir = '/content/drive/MyDrive/PerosonTableDet/ultralytics/labels'\n",
        "\n",
        "# Directory to save the modified annotations with updated class numbers\n",
        "new_annotation_dir = '/content/drive/MyDrive/PerosonTableDet/ultralytics/changeLabel_val1'\n",
        "\n",
        "# Dictionary to map old class numbers to new class numbers\n",
        "class_mapping = {\n",
        "    '1': '0',\n",
        "    '2': '1',\n",
        "    '3': '2',\n",
        "    '4': '3',\n",
        "    '7': '4',\n",
        "    '8': '5',\n",
        "    '10': '6',\n",
        "    '11': '7',\n",
        "    # Add more mappings as needed\n",
        "}\n",
        "\n",
        "# Create the new annotation directory if it doesn't exist\n",
        "if not os.path.exists(new_annotation_dir):\n",
        "    os.makedirs(new_annotation_dir)\n",
        "\n",
        "# Iterate through the original annotation files\n",
        "for filename in os.listdir(original_annotation_dir):\n",
        "    if filename.endswith('.txt'):\n",
        "        with open(os.path.join(original_annotation_dir, filename), 'r') as file:\n",
        "            lines = file.readlines()\n",
        "\n",
        "        # Iterate through lines and update class numbers\n",
        "        updated_lines = []\n",
        "        for line in lines:\n",
        "            parts = line.strip().split()\n",
        "            if len(parts) > 0 and parts[0] in class_mapping:\n",
        "                parts[0] = class_mapping[parts[0]]\n",
        "            updated_lines.append(' '.join(parts))\n",
        "\n",
        "        # Save the modified annotation to the new directory\n",
        "        new_filename = os.path.join(new_annotation_dir, filename)\n",
        "        with open(new_filename, 'w') as file:\n",
        "            file.writelines('\\n'.join(updated_lines))\n",
        "\n",
        "print(\"Annotations with updated class numbers saved to the new directory.\")"
      ],
      "metadata": {
        "colab": {
          "base_uri": "https://localhost:8080/"
        },
        "id": "Ey6fNkiukgcs",
        "outputId": "00312cc5-b583-4323-f226-199ffb31c2be"
      },
      "execution_count": null,
      "outputs": [
        {
          "output_type": "stream",
          "name": "stdout",
          "text": [
            "Annotations with updated class numbers saved to the new directory.\n"
          ]
        }
      ]
    },
    {
      "cell_type": "code",
      "source": [
        "import os\n",
        "\n",
        "# Directory containing the original YOLO annotation files\n",
        "original_annotation_dir = '/content/drive/MyDrive/PerosonTableDet/ultralytics/label'\n",
        "\n",
        "# Directory to save the modified annotations with updated class numbers\n",
        "new_annotation_dir = '/content/drive/MyDrive/PerosonTableDet/ultralytics/changeLabel_train1'\n",
        "\n",
        "# Dictionary to map old class numbers to new class numbers\n",
        "class_mapping = {\n",
        "    '1': '0',\n",
        "    '2': '1',\n",
        "    '3': '2',\n",
        "    '4': '3',\n",
        "    '7': '4',\n",
        "    '8': '5',\n",
        "    '10': '6',\n",
        "    '11': '7',\n",
        "    # Add more mappings as needed\n",
        "}\n",
        "\n",
        "# Create the new annotation directory if it doesn't exist\n",
        "if not os.path.exists(new_annotation_dir):\n",
        "    os.makedirs(new_annotation_dir)\n",
        "\n",
        "# Iterate through the original annotation files\n",
        "for filename in os.listdir(original_annotation_dir):\n",
        "    if filename.endswith('.txt'):\n",
        "        with open(os.path.join(original_annotation_dir, filename), 'r') as file:\n",
        "            lines = file.readlines()\n",
        "\n",
        "        # Iterate through lines and update class numbers\n",
        "        updated_lines = []\n",
        "        for line in lines:\n",
        "            parts = line.strip().split()\n",
        "            if len(parts) > 0 and parts[0] in class_mapping:\n",
        "                parts[0] = class_mapping[parts[0]]\n",
        "            updated_lines.append(' '.join(parts))\n",
        "\n",
        "        # Save the modified annotation to the new directory\n",
        "        new_filename = os.path.join(new_annotation_dir, filename)\n",
        "        with open(new_filename, 'w') as file:\n",
        "            file.writelines('\\n'.join(updated_lines))\n",
        "\n",
        "print(\"Annotations with updated class numbers saved to the new directory.\")"
      ],
      "metadata": {
        "colab": {
          "base_uri": "https://localhost:8080/"
        },
        "id": "iiJTguaGlZlD",
        "outputId": "71ac3df5-e79b-4809-d2a3-995d0b3486e0"
      },
      "execution_count": null,
      "outputs": [
        {
          "output_type": "stream",
          "name": "stdout",
          "text": [
            "Annotations with updated class numbers saved to the new directory.\n"
          ]
        }
      ]
    },
    {
      "cell_type": "code",
      "source": [
        "import os\n",
        "\n",
        "# Directory containing the original YOLO annotation files\n",
        "original_annotation_dir = '/content/drive/MyDrive/PerosonTableDet/ultralytics/label1'\n",
        "\n",
        "# Directory to save the modified annotations with updated class numbers\n",
        "new_annotation_dir = '/content/drive/MyDrive/PerosonTableDet/ultralytics/changeLabel_train2'\n",
        "\n",
        "# Dictionary to map old class numbers to new class numbers\n",
        "class_mapping = {\n",
        "    '1': '0',\n",
        "    '2': '1',\n",
        "    '3': '2',\n",
        "    '4': '3',\n",
        "    '7': '4',\n",
        "    '8': '5',\n",
        "    '10': '6',\n",
        "    '11': '7',\n",
        "    # Add more mappings as needed\n",
        "}\n",
        "\n",
        "# Create the new annotation directory if it doesn't exist\n",
        "if not os.path.exists(new_annotation_dir):\n",
        "    os.makedirs(new_annotation_dir)\n",
        "\n",
        "# Iterate through the original annotation files\n",
        "for filename in os.listdir(original_annotation_dir):\n",
        "    if filename.endswith('.txt'):\n",
        "        with open(os.path.join(original_annotation_dir, filename), 'r') as file:\n",
        "            lines = file.readlines()\n",
        "\n",
        "        # Iterate through lines and update class numbers\n",
        "        updated_lines = []\n",
        "        for line in lines:\n",
        "            parts = line.strip().split()\n",
        "            if len(parts) > 0 and parts[0] in class_mapping:\n",
        "                parts[0] = class_mapping[parts[0]]\n",
        "            updated_lines.append(' '.join(parts))\n",
        "\n",
        "        # Save the modified annotation to the new directory\n",
        "        new_filename = os.path.join(new_annotation_dir, filename)\n",
        "        with open(new_filename, 'w') as file:\n",
        "            file.writelines('\\n'.join(updated_lines))\n",
        "\n",
        "print(\"Annotations with updated class numbers saved to the new directory.\")"
      ],
      "metadata": {
        "colab": {
          "base_uri": "https://localhost:8080/"
        },
        "id": "6L0UQYWxpQse",
        "outputId": "111d1f2d-a406-4718-f340-b0abc460531f"
      },
      "execution_count": null,
      "outputs": [
        {
          "output_type": "stream",
          "name": "stdout",
          "text": [
            "Annotations with updated class numbers saved to the new directory.\n"
          ]
        }
      ]
    },
    {
      "cell_type": "code",
      "source": [
        "import os\n",
        "\n",
        "# Define the extract_bbox_from_annotation function\n",
        "def extract_bbox_from_annotation(annotation_folder, image_filename):\n",
        "    # Your implementation of the function here\n",
        "    # ...\n",
        "\n",
        "# Define the path to the folder containing your annotation files\n",
        "annotation_folder = '/content/drive/MyDrive/PerosonTableDet/ultralytics/valnew1/labels'\n",
        "\n",
        "# Specify the filename of the image for which you want to extract bounding box information\n",
        "image_filename = '/content/drive/MyDrive/PerosonTableDet/ultralytics/valnew1/images'\n",
        "\n",
        "# Call the extract_bbox_from_annotation function\n",
        "bounding_boxes = extract_bbox_from_annotation(annotation_folder, image_filename)\n",
        "\n",
        "# Print or process the extracted bounding box information\n",
        "for class_label, x1, y1, x2, y2 in bounding_boxes:\n",
        "    print(f\"Class: {class_label}, Bounding Box: ({x1}, {y1}, {x2}, {y2})\")\n",
        "\n"
      ],
      "metadata": {
        "colab": {
          "base_uri": "https://localhost:8080/",
          "height": 142
        },
        "id": "EtGRgH7-AM6G",
        "outputId": "52ab5fc9-e39b-420b-f770-843e9cf3f300"
      },
      "execution_count": null,
      "outputs": [
        {
          "output_type": "error",
          "ename": "IndentationError",
          "evalue": "ignored",
          "traceback": [
            "\u001b[0;36m  File \u001b[0;32m\"<ipython-input-24-081b3459f520>\"\u001b[0;36m, line \u001b[0;32m9\u001b[0m\n\u001b[0;31m    annotation_folder = '/content/drive/MyDrive/PerosonTableDet/ultralytics/valnew1/labels'\u001b[0m\n\u001b[0m    ^\u001b[0m\n\u001b[0;31mIndentationError\u001b[0m\u001b[0;31m:\u001b[0m expected an indented block after function definition on line 4\n"
          ]
        }
      ]
    },
    {
      "cell_type": "code",
      "source": [
        "import os\n",
        "\n",
        "def extract_bbox_from_annotation(annotation_folder, image_filename):\n",
        "    # Construct the full path to the annotation file\n",
        "    annotation_filename = os.path.splitext(image_filename)[0] + '.txt'\n",
        "    annotation_path = os.path.join(annotation_folder, annotation_filename)\n",
        "\n",
        "    # Initialize a list to store the bounding box coordinates\n",
        "    bounding_boxes = []\n",
        "\n",
        "    # Check if the annotation file exists\n",
        "    if os.path.exists(annotation_path):\n",
        "        with open(annotation_path, 'r') as file:\n",
        "            lines = file.readlines()\n",
        "\n",
        "        for line in lines:\n",
        "            # YOLO format: class x_center y_center width height\n",
        "            parts = line.strip().split()\n",
        "            if len(parts) == 5:  # Expecting 5 values per line\n",
        "                class_label = parts[0]\n",
        "                x_center = float(parts[1])\n",
        "                y_center = float(parts[2])\n",
        "                width = float(parts[3])\n",
        "                height = float(parts[4])\n",
        "\n",
        "                # Calculate bounding box coordinates\n",
        "                x1 = int((x_center - width / 2) * image_width)  # Adjust for image size\n",
        "                y1 = int((y_center - height / 2) * image_height)\n",
        "                x2 = int((x_center + width / 2) * image_width)\n",
        "                y2 = int((y_center + height / 2) * image_height)\n",
        "\n",
        "                # Store bounding box coordinates\n",
        "                bounding_boxes.append((class_label, x1, y1, x2, y2))\n",
        "\n",
        "    return bounding_boxes\n",
        "# Define the path to the folder containing your annotation files\n",
        "annotation_folder = '/content/drive/MyDrive/PerosonTableDet/ultralytics/valnew1/labels'\n",
        "\n",
        "# Specify the filename of the image for which you want to extract bounding box information\n",
        "image_filename = '/content/drive/MyDrive/PerosonTableDet/ultralytics/valnew1/images'\n",
        "\n",
        "# Call the extract_bbox_from_annotation function\n",
        "bounding_boxes = extract_bbox_from_annotation(annotation_folder, image_filename)\n",
        "\n",
        "# Print or process the extracted bounding box information\n",
        "for class_label, x1, y1, x2, y2 in bounding_boxes:\n",
        "    print(f\"Class: {class_label}, Bounding Box: ({x1}, {y1}, {x2}, {y2})\")\n",
        "\n"
      ],
      "metadata": {
        "id": "cIeG56Jo_3eF"
      },
      "execution_count": null,
      "outputs": []
    },
    {
      "cell_type": "code",
      "source": [
        "import os\n",
        "import shutil\n",
        "\n",
        "# Define the extract_bbox_from_annotation function\n",
        "def extract_bbox_from_annotation(annotation_folder, image_filename):\n",
        "    # Construct the full path to the annotation file\n",
        "    annotation_filename = os.path.splitext(image_filename)[0] + '.txt'\n",
        "    annotation_path = os.path.join(annotation_folder, annotation_filename)\n",
        "\n",
        "    # Initialize a list to store the bounding box coordinates\n",
        "    bounding_boxes = []\n",
        "\n",
        "    # Check if the annotation file exists\n",
        "    if os.path.exists(annotation_path):\n",
        "        with open(annotation_path, 'r') as file:\n",
        "            lines = file.readlines()\n",
        "\n",
        "        for line in lines:\n",
        "            # YOLO format: class x_center y_center width height\n",
        "            parts = line.strip().split()\n",
        "            if len(parts) == 5:  # Expecting 5 values per line\n",
        "                class_label = parts[0]\n",
        "                x_center = float(parts[1])\n",
        "                y_center = float(parts[2])\n",
        "                width = float(parts[3])\n",
        "                height = float(parts[4])\n",
        "\n",
        "                # Calculate bounding box coordinates\n",
        "                x1 = int((x_center - width / 2) * image_width)  # Adjust for image size\n",
        "                y1 = int((y_center - height / 2) * image_height)\n",
        "                x2 = int((x_center + width / 2) * image_width)\n",
        "                y2 = int((y_center + height / 2) * image_height)\n",
        "\n",
        "                # Store bounding box coordinates\n",
        "                bounding_boxes.append((class_label, x1, y1, x2, y2))\n",
        "\n",
        "    return bounding_boxes\n",
        "\n",
        "# Define the path to the folder containing your annotation files\n",
        "annotation_folder = '/content/drive/MyDrive/PerosonTableDet/ultralytics/valnew1/labels'\n",
        "\n",
        "# Define the path to the new folder to save bounding boxes\n",
        "output_folder = '/content/drive/MyDrive/PerosonTableDet/ultralytics/valnew1/extract_box'\n",
        "\n",
        "# Iterate through image files in the annotation folder\n",
        "for image_filename in os.listdir(annotation_folder):\n",
        "    if image_filename.endswith('.jpg'):\n",
        "        # Call the extract_bbox_from_annotation function\n",
        "        bounding_boxes = extract_bbox_from_annotation(annotation_folder, image_filename)\n",
        "\n",
        "        # Create a folder for each image's bounding boxes\n",
        "        image_output_folder = os.path.join(output_folder, os.path.splitext(image_filename)[0])\n",
        "        os.makedirs(image_output_folder, exist_ok=True)\n",
        "\n",
        "        # Save bounding boxes as separate text files\n",
        "        for idx, (class_label, x1, y1, x2, y2) in enumerate(bounding_boxes):\n",
        "            bbox_filename = os.path.join(image_output_folder, f'bbox_{idx}.txt')\n",
        "            with open(bbox_filename, 'w') as bbox_file:\n",
        "                bbox_file.write(f\"{class_label} {x1} {y1} {x2} {y2}\")\n"
      ],
      "metadata": {
        "id": "Zd9u71mLCFkd"
      },
      "execution_count": null,
      "outputs": []
    }
  ]
}