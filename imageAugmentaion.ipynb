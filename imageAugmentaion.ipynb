{
  "nbformat": 4,
  "nbformat_minor": 0,
  "metadata": {
    "colab": {
      "provenance": [],
      "gpuType": "T4",
      "mount_file_id": "1rfpG9Ar7oSVHE8aZNZFRJnPQ010kfuTR",
      "authorship_tag": "ABX9TyP9jDkC2elmMberlr01ob+R",
      "include_colab_link": true
    },
    "kernelspec": {
      "name": "python3",
      "display_name": "Python 3"
    },
    "language_info": {
      "name": "python"
    },
    "accelerator": "GPU"
  },
  "cells": [
    {
      "cell_type": "markdown",
      "metadata": {
        "id": "view-in-github",
        "colab_type": "text"
      },
      "source": [
        "<a href=\"https://colab.research.google.com/github/samra31/Furniture-Detection/blob/main/imageAugmentaion.ipynb\" target=\"_parent\"><img src=\"https://colab.research.google.com/assets/colab-badge.svg\" alt=\"Open In Colab\"/></a>"
      ]
    },
    {
      "cell_type": "code",
      "execution_count": null,
      "metadata": {
        "colab": {
          "base_uri": "https://localhost:8080/"
        },
        "id": "yseBzBDRkIP_",
        "outputId": "bf7cf8b7-610f-4470-9d3e-5c94939c8a6f"
      },
      "outputs": [
        {
          "output_type": "stream",
          "name": "stdout",
          "text": [
            "Found 2051 images belonging to 4 classes.\n"
          ]
        }
      ],
      "source": [
        "import os\n",
        "from keras.preprocessing.image import ImageDataGenerator\n",
        "\n",
        "# Define your dataset and augmentation parameters\n",
        "data_dir = '/content/drive/MyDrive/DetSeg/ultralytics/trainingTable'\n",
        "output_dir = '/content/drive/MyDrive/DetSeg/ultralytics/trainingTable/aug_Trzlt'\n",
        "batch_size = 32  # Number of images to generate in each batch\n",
        "image_size = (640,640)  # Target image size\n",
        "rotation_range = 20  # Range for random rotation\n",
        "width_shift_range = 0.2  # Range for random horizontal shift\n",
        "height_shift_range = 0.2  # Range for random vertical shift\n",
        "shear_range = 0.2  # Shear intensity\n",
        "zoom_range = 0.2  # Range for random zoom\n",
        "horizontal_flip = True  # Randomly flip images horizontally\n",
        "vertical_flip = False  # Randomly flip images vertically\n",
        "\n",
        "# Create an ImageDataGenerator with augmentation parameters\n",
        "datagen = ImageDataGenerator(\n",
        "    rotation_range=rotation_range,\n",
        "    width_shift_range=width_shift_range,\n",
        "    height_shift_range=height_shift_range,\n",
        "    shear_range=shear_range,\n",
        "    zoom_range=zoom_range,\n",
        "    horizontal_flip=horizontal_flip,\n",
        "    vertical_flip=vertical_flip,\n",
        "    fill_mode='nearest'\n",
        ")\n",
        "\n",
        "# Create a generator for your dataset\n",
        "generator = datagen.flow_from_directory(\n",
        "    data_dir,\n",
        "    target_size=image_size,\n",
        "    batch_size=batch_size,\n",
        "    class_mode='categorical',\n",
        "    save_to_dir=output_dir,  # Directory to save augmented images\n",
        "    save_prefix='aug',  # Prefix for the saved images\n",
        "    save_format='jpg'  # Format for saved images\n",
        ")\n",
        "\n",
        "# Number of images to generate (can be set based on your needs)\n",
        "num_augmented_images = 2000\n",
        "\n",
        "# Generate augmented images\n",
        "for _ in range(num_augmented_images // batch_size):\n",
        "    generator.next()\n",
        "\n",
        "# Optionally, you can manually generate more images if needed\n"
      ]
    },
    {
      "cell_type": "code",
      "source": [
        "import os\n",
        "from keras.preprocessing.image import ImageDataGenerator\n",
        "\n",
        "# Define your dataset and augmentation parameters\n",
        "data_dir = '/content/drive/MyDrive/DetSeg/ultralytics/validationTable'\n",
        "output_dir = '/content/drive/MyDrive/DetSeg/ultralytics/validationTable/aug_vrzlt'\n",
        "batch_size = 32  # Number of images to generate in each batch\n",
        "image_size = (640,640)  # Target image size\n",
        "rotation_range = 20  # Range for random rotation\n",
        "width_shift_range = 0.2  # Range for random horizontal shift\n",
        "height_shift_range = 0.2  # Range for random vertical shift\n",
        "shear_range = 0.2  # Shear intensity\n",
        "zoom_range = 0.2  # Range for random zoom\n",
        "horizontal_flip = True  # Randomly flip images horizontally\n",
        "vertical_flip = True  # Randomly flip images vertically\n",
        "\n",
        "# Create an ImageDataGenerator with augmentation parameters\n",
        "datagen = ImageDataGenerator(\n",
        "    rotation_range=rotation_range,\n",
        "    width_shift_range=width_shift_range,\n",
        "    height_shift_range=height_shift_range,\n",
        "    shear_range=shear_range,\n",
        "    zoom_range=zoom_range,\n",
        "    horizontal_flip=horizontal_flip,\n",
        "    vertical_flip=vertical_flip,\n",
        "    fill_mode='nearest'\n",
        ")\n",
        "\n",
        "# Create a generator for your dataset\n",
        "generator = datagen.flow_from_directory(\n",
        "    data_dir,\n",
        "    target_size=image_size,\n",
        "    batch_size=batch_size,\n",
        "    class_mode='categorical',\n",
        "    save_to_dir=output_dir,  # Directory to save augmented images\n",
        "    save_prefix='aug',  # Prefix for the saved images\n",
        "    save_format='jpg'  # Format for saved images\n",
        ")\n",
        "\n",
        "# Number of images to generate (can be set based on your needs)\n",
        "num_augmented_images = 1000\n",
        "\n",
        "# Generate augmented images\n",
        "for _ in range(num_augmented_images // batch_size):\n",
        "    generator.next()\n",
        "\n",
        "# Optionally, you can manually generate more images if needed\n"
      ],
      "metadata": {
        "colab": {
          "base_uri": "https://localhost:8080/"
        },
        "id": "T5SLiPCpoKyP",
        "outputId": "fae2e840-e923-4932-e5b7-5064edde937d"
      },
      "execution_count": null,
      "outputs": [
        {
          "output_type": "stream",
          "name": "stdout",
          "text": [
            "Found 463 images belonging to 4 classes.\n"
          ]
        }
      ]
    }
  ]
}